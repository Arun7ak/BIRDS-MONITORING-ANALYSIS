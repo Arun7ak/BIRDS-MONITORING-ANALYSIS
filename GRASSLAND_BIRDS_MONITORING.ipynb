{
 "cells": [
  {
   "cell_type": "code",
   "execution_count": 1,
   "metadata": {},
   "outputs": [],
   "source": [
    "#IMPORTING THE LIBRARY FOR EDA AND READ EXCEL FILE\n",
    "import numpy as np\n",
    "import pandas as pd\n",
    "import seaborn as sns\n",
    "import matplotlib.pyplot as plt\n",
    "import warnings"
   ]
  },
  {
   "cell_type": "code",
   "execution_count": 2,
   "metadata": {},
   "outputs": [],
   "source": [
    "#TO IGNORE THE WARNING \n",
    "warnings.filterwarnings(\"ignore\")"
   ]
  },
  {
   "cell_type": "code",
   "execution_count": 3,
   "metadata": {},
   "outputs": [],
   "source": [
    "# GET THE DATA FROM EXCEL FILE WORKSHEETS\n",
    "file_path = \"Bird_Monitoring_Data_GRASSLAND.XLSX\"\n",
    "excel_data = pd.ExcelFile(file_path)\n",
    "sheet_names = excel_data.sheet_names\n",
    "sheets_dict = {sheet: excel_data.parse(sheet) for sheet in sheet_names}"
   ]
  },
  {
   "cell_type": "code",
   "execution_count": 4,
   "metadata": {},
   "outputs": [],
   "source": [
    "#COMBINING THE SHEET FOR MAKING SINGLE DATAFRAME\n",
    "combined_grassland_df = pd.concat(\n",
    "    [df.assign(Sheet=sheet_name) for sheet_name, df in sheets_dict.items()],\n",
    "    ignore_index=True\n",
    ")"
   ]
  },
  {
   "cell_type": "code",
   "execution_count": 5,
   "metadata": {},
   "outputs": [],
   "source": [
    "#DROP THE SHEET COLUMN NAME\n",
    "combined_grassland_df = combined_grassland_df.drop(columns=['Sheet'])"
   ]
  },
  {
   "cell_type": "code",
   "execution_count": 6,
   "metadata": {},
   "outputs": [],
   "source": [
    "#TO DISPLAY THE DATA WITH ALL COLUMNS\n",
    "pd.set_option('display.max_columns',None)"
   ]
  },
  {
   "cell_type": "code",
   "execution_count": null,
   "metadata": {},
   "outputs": [],
   "source": [
    "#DISPLAY DATAFRAME\n",
    "combined_grassland_df.head()"
   ]
  },
  {
   "cell_type": "code",
   "execution_count": null,
   "metadata": {},
   "outputs": [],
   "source": [
    "#CHECKING THE INFO ABOUT THE DATA FRAME\n",
    "combined_grassland_df.info()"
   ]
  },
  {
   "cell_type": "code",
   "execution_count": null,
   "metadata": {},
   "outputs": [],
   "source": [
    "#CHECKING THE COUNT OF ROW FOR DATAFRAME FOREST\n",
    "combined_grassland_df.count()"
   ]
  },
  {
   "cell_type": "code",
   "execution_count": null,
   "metadata": {},
   "outputs": [],
   "source": [
    "#CHECKING THE PROBABILITY FOR THE DATA\n",
    "combined_grassland_df.describe()"
   ]
  },
  {
   "cell_type": "code",
   "execution_count": null,
   "metadata": {},
   "outputs": [],
   "source": [
    "#CHECKING THE NULL DATA\n",
    "combined_grassland_df.isnull().sum()"
   ]
  },
  {
   "cell_type": "code",
   "execution_count": 12,
   "metadata": {},
   "outputs": [],
   "source": [
    "#DROPING THE SUB UNIT CODE COLUMN WHICH HAS ALL DATA EMPTY\n",
    "combined_grassland_df.drop(columns=['Sub_Unit_Code'], inplace=True)"
   ]
  },
  {
   "cell_type": "code",
   "execution_count": 13,
   "metadata": {},
   "outputs": [],
   "source": [
    "#DROPING THE SEX COLUMN WHICH HAS MANY DATA EMPTY\n",
    "combined_grassland_df.drop(columns=['Sex'], inplace=True)"
   ]
  },
  {
   "cell_type": "code",
   "execution_count": null,
   "metadata": {},
   "outputs": [],
   "source": [
    "#CHECK THE ID METHOD WHICH ROW HAS THE NULL VALUE AND STORE IT IN VARIABLE\n",
    "combined_grassland_df[combined_grassland_df['ID_Method'].isna()]"
   ]
  },
  {
   "cell_type": "code",
   "execution_count": null,
   "metadata": {},
   "outputs": [],
   "source": [
    "#FILTERING THE COMMON NAME RED-EYED-VIREO FOR FILLING ID METHOD NULL \n",
    "combined_grassland_df[combined_grassland_df['Common_Name'] == \"American Crow\"]"
   ]
  },
  {
   "cell_type": "code",
   "execution_count": 16,
   "metadata": {},
   "outputs": [],
   "source": [
    "#FULL THE NULL WITH SINGING BECAUSE THE RED EYED VIREO BIRD ID METHOD IS SINGING\n",
    "combined_grassland_df[\"ID_Method\"].fillna(\"Calling\",inplace=True)"
   ]
  },
  {
   "cell_type": "code",
   "execution_count": null,
   "metadata": {},
   "outputs": [],
   "source": [
    "#CHECKING NULL VALUE FOR ACCEPTED TSN\n",
    "combined_grassland_df[combined_grassland_df['AcceptedTSN'].isna()]"
   ]
  },
  {
   "cell_type": "code",
   "execution_count": null,
   "metadata": {},
   "outputs": [],
   "source": [
    "#CHECK THE AOU CODE WHICH IS COMMON IN ALL EMPTY ACCEPTED TSN\n",
    "combined_grassland_df[combined_grassland_df['AOU_Code'] == \"HOFI\"]"
   ]
  },
  {
   "cell_type": "code",
   "execution_count": 19,
   "metadata": {},
   "outputs": [],
   "source": [
    "#AFTER CHECKING THE COMMON COLUMN FOR ACCEPTED TSN ALL ARE EMPTY SO FILL NULL BY NULL\n",
    "combined_grassland_df[\"AcceptedTSN\"].fillna(0,inplace=True)"
   ]
  },
  {
   "cell_type": "code",
   "execution_count": 20,
   "metadata": {},
   "outputs": [],
   "source": [
    "#FILLING THE NULL DATA BY MODE\n",
    "mode_value = combined_grassland_df['Distance'].mode()[0]\n",
    "combined_grassland_df['Distance'].fillna(mode_value, inplace=True)"
   ]
  },
  {
   "cell_type": "code",
   "execution_count": null,
   "metadata": {},
   "outputs": [],
   "source": [
    "#CHECKING NULL VALUE FOR TAXONCODE\n",
    "combined_grassland_df[combined_grassland_df['TaxonCode'].isna()]"
   ]
  },
  {
   "cell_type": "code",
   "execution_count": null,
   "metadata": {},
   "outputs": [],
   "source": [
    "#CHECK THE AOU CODE WHICH IS COMMON IN ALL EMPTY ACCEPTED TAXONCODE\n",
    "combined_grassland_df[combined_grassland_df[\"AOU_Code\"]=='NOCR']"
   ]
  },
  {
   "cell_type": "code",
   "execution_count": null,
   "metadata": {},
   "outputs": [],
   "source": [
    "#CHECK THE AOU CODE WHICH IS COMMON IN ALL EMPTY ACCEPTED TAXONCODE\n",
    "combined_grassland_df[combined_grassland_df[\"AOU_Code\"]=='CHPH']"
   ]
  },
  {
   "cell_type": "code",
   "execution_count": 24,
   "metadata": {},
   "outputs": [],
   "source": [
    "#FILLING THE NULL VALUE WITH 0 IN TAXON CODE\n",
    "combined_grassland_df[\"TaxonCode\"].fillna('0',inplace=True)"
   ]
  },
  {
   "cell_type": "code",
   "execution_count": null,
   "metadata": {},
   "outputs": [],
   "source": [
    "#AGAIN CHECKING THE NULL VALUE AFTER FILLING THE NULL\n",
    "combined_grassland_df.isna().sum()"
   ]
  },
  {
   "cell_type": "code",
   "execution_count": 26,
   "metadata": {},
   "outputs": [],
   "source": [
    "#ROUND THE TEMPERATURE AND HUMIDITY DATA FOR ANALYSIS\n",
    "combined_grassland_df[\"Temperature\"]=combined_grassland_df[\"Temperature\"].round(0).astype(int)\n",
    "combined_grassland_df[\"Humidity\"]=combined_grassland_df[\"Humidity\"].round(0).astype(int)"
   ]
  },
  {
   "cell_type": "code",
   "execution_count": null,
   "metadata": {},
   "outputs": [],
   "source": [
    "#CHECK THE UNIQUE DATA IN SKY FOR REDUCE THE UNIQUE COLUMN\n",
    "combined_grassland_df[\"Sky\"].unique()"
   ]
  },
  {
   "cell_type": "code",
   "execution_count": 28,
   "metadata": {},
   "outputs": [],
   "source": [
    "#MAKING THE DF DATA LOOK GOOD AND EASY TO ANALYSE\n",
    "combined_grassland_df[\"Sky\"].replace(\"Clear or Few Clouds\",\"Clear/Few Clouds\",inplace=True)"
   ]
  },
  {
   "cell_type": "code",
   "execution_count": null,
   "metadata": {},
   "outputs": [],
   "source": [
    "#CHECKING THE SKY COLUMN AFTER REPLACE THE DATA\n",
    "combined_grassland_df[\"Sky\"].unique()"
   ]
  },
  {
   "cell_type": "code",
   "execution_count": 30,
   "metadata": {},
   "outputs": [],
   "source": [
    "#SEPEARTE THE DAY AND MONTH IN NEW COLUMNS FOR EDA \n",
    "combined_grassland_df['Day'] = combined_grassland_df['Date'].dt.day\n",
    "combined_grassland_df['Month'] = combined_grassland_df['Date'].dt.month"
   ]
  },
  {
   "cell_type": "code",
   "execution_count": null,
   "metadata": {},
   "outputs": [],
   "source": [
    "#DISPLAY THE DATAFRAME AFTER CLEANING \n",
    "combined_grassland_df.head()"
   ]
  },
  {
   "cell_type": "code",
   "execution_count": null,
   "metadata": {},
   "outputs": [],
   "source": [
    "#CHECKING NULL VALUES AFTER CLEANING THE DATA\n",
    "combined_grassland_df.isna().sum()"
   ]
  },
  {
   "cell_type": "code",
   "execution_count": 88,
   "metadata": {},
   "outputs": [],
   "source": [
    "combined_grassland_df.to_csv(\"CLEANED_GRASSLAND_BIRDS_MONITORING_DATA.csv\",index = False)"
   ]
  },
  {
   "cell_type": "markdown",
   "metadata": {},
   "source": [
    "EDA UNI-VARIENT ANALYSIS"
   ]
  },
  {
   "cell_type": "code",
   "execution_count": null,
   "metadata": {},
   "outputs": [],
   "source": [
    "#DISPLAY THE BIRD OBSERVED COUNT BY OBSERVER\n",
    "plt.figure(figsize=(6,6))\n",
    "sns.countplot(x=\"Observer\",data=combined_grassland_df,palette='viridis') \n",
    "plt.title(\"BIRD OBSERVED COUNT BY OBSERVER\")\n",
    "plt.xlabel(\"OBSERVER NAME\")\n",
    "plt.ylabel(\"BIRD OBSERVED COUNT\")\n",
    "plt.show()"
   ]
  },
  {
   "cell_type": "code",
   "execution_count": null,
   "metadata": {},
   "outputs": [],
   "source": [
    "\n",
    "#DISPLAY THE COUNT OF RARE SPECIES\n",
    "plt.figure(figsize=(5, 6))\n",
    "sns.countplot(x=\"PIF_Watchlist_Status\",data=combined_grassland_df,palette='bright') \n",
    "plt.title(\" COUNT OF RARE SPECIES\")\n",
    "plt.xlabel(\"RARE SPECIES STATUS\")\n",
    "plt.ylabel(\"COUNT OF RARE SPECIES\")\n",
    "plt.show()"
   ]
  },
  {
   "cell_type": "code",
   "execution_count": null,
   "metadata": {},
   "outputs": [],
   "source": [
    "\n",
    "#DISPLAY THE COUNT OF BIRDS ID METHOD AND ANALYSED MOST BIRD VISITED ARE SINGING BIRDS\n",
    "plt.figure(figsize=(5, 6))\n",
    "sns.countplot(x=\"ID_Method\",data=combined_grassland_df,palette='viridis') \n",
    "plt.title(\" COUNT OF BIRD ID METHOD\")\n",
    "plt.xlabel(\"BIRDS ID METHOD\")\n",
    "plt.ylabel(\"COUNT OF ID METHOD\")\n",
    "plt.show()"
   ]
  },
  {
   "cell_type": "code",
   "execution_count": null,
   "metadata": {},
   "outputs": [],
   "source": [
    "#DISPLAY THE COUNT OF BIRD VISITED IN FIRST THREE MINUTES\n",
    "plt.figure(figsize=(5,4))\n",
    "sns.countplot(x = \"Initial_Three_Min_Cnt\",data =combined_grassland_df,palette='bright')\n",
    "plt.title(\" COUNT OF BIRD VISITED IN FIRST THREE MINUTES\")\n",
    "plt.xlabel(\"Initial_Three_Min_Cnt\")\n",
    "plt.ylabel(\"COUNT OF FIRST THREE MINUTES VISITED BIRDS\")\n",
    "plt.show()"
   ]
  },
  {
   "cell_type": "markdown",
   "metadata": {},
   "source": [
    "EDA BI-VARIENT ANALYSIS"
   ]
  },
  {
   "cell_type": "code",
   "execution_count": null,
   "metadata": {},
   "outputs": [],
   "source": [
    "#DISPLAY THE TOP VISIT COUNT OF BIRDS BY REGION\n",
    "bird_counts = combined_grassland_df.groupby([\"Admin_Unit_Code\", \"Common_Name\"]).size().reset_index(name=\"count\")\n",
    "most_visited = bird_counts.loc[bird_counts.groupby(\"Admin_Unit_Code\")[\"count\"].idxmax()]\n",
    "plt.figure(figsize=(10, 6))\n",
    "sns.barplot(data=most_visited, x=\"Admin_Unit_Code\", y=\"count\", hue=\"Common_Name\")\n",
    "plt.title(\"Most Visited Bird per Region\")\n",
    "plt.xlabel(\"Region (anti_unit_code)\")\n",
    "plt.ylabel(\"Visit Count of bird\")\n",
    "plt.legend(title=\"Bird Name\")\n",
    "plt.show()"
   ]
  },
  {
   "cell_type": "code",
   "execution_count": null,
   "metadata": {},
   "outputs": [],
   "source": [
    "#Categorical Data: Use deep, bright, or muted.\n",
    "#Ordered Data: Use sequential palettes like Blues or viridis.\n",
    "#Diverging Data: Use coolwarm or RdBu for two extremes.\n",
    "#DISPLAY THE COUNT OF PLOT COUNT BY REGION\n",
    "unique_sites = combined_grassland_df.groupby(\"Admin_Unit_Code\")[\"Plot_Name\"].nunique().reset_index()\n",
    "plt.figure(figsize=(10, 6))\n",
    "sns.barplot(data=unique_sites, x=\"Admin_Unit_Code\", y=\"Plot_Name\",palette=\"viridis\")                   \n",
    "plt.title(\"UNIQUE PLOT COUNT PER REGION\")\n",
    "plt.xlabel(\"Region(Admin_Unit_Code)\")\n",
    "plt.ylabel(\"Unique Plot Count\")\n",
    "plt.xticks(rotation=45)\n",
    "plt.show()"
   ]
  },
  {
   "cell_type": "code",
   "execution_count": null,
   "metadata": {},
   "outputs": [],
   "source": [
    "#DISPLAY THE MOST FREQUENT BIRD VISITS FOR EACH TEMPERATURE\n",
    "bird_counts = combined_grassland_df.groupby([\"Temperature\", \"Common_Name\"]).size().reset_index(name=\"Count\")\n",
    "most_visited_bird = bird_counts.loc[bird_counts.groupby(\"Temperature\")[\"Count\"].idxmax()]\n",
    "plt.figure(figsize=(17,7))\n",
    "sns.barplot(data=most_visited_bird, x=\"Temperature\", y=\"Count\", hue=\"Common_Name\", palette=\"viridis\")\n",
    "plt.title(\"MOST FREQUENT BIRD VISITS FOR EACH TEMPERATURE\")\n",
    "plt.xlabel(\"Temperature range\")\n",
    "plt.ylabel(\"Count of most visited bird for each temp\")\n",
    "plt.show()"
   ]
  },
  {
   "cell_type": "code",
   "execution_count": null,
   "metadata": {},
   "outputs": [],
   "source": [
    "#DISPLAY THE MOSTED VISITED BIRD BY SKY \n",
    "bird_count_by_sky = combined_grassland_df.groupby([\"Sky\", \"Common_Name\"]).size().reset_index(name=\"Count\")\n",
    "bird_count_by_sky_max = bird_count_by_sky.loc[bird_count_by_sky.groupby(\"Sky\")[\"Count\"].idxmax()]\n",
    "sns.barplot(data=bird_count_by_sky_max , x=\"Sky\", y=\"Count\", hue=\"Common_Name\", palette=\"viridis\")\n",
    "plt.title(\"MOST FREQUENT BIRD VISITS BY SKY\")\n",
    "plt.xlabel(\"Sky type\")\n",
    "plt.ylabel(\"Count of birds\")\n",
    "plt.xticks(rotation=45)\n",
    "plt.show()"
   ]
  },
  {
   "cell_type": "code",
   "execution_count": null,
   "metadata": {},
   "outputs": [],
   "source": [
    "#CHECKING THE RELATION BETWEEN TEMP AND HUMIDITY\n",
    "correlation = combined_grassland_df['Temperature'].corr(combined_grassland_df['Humidity'])\n",
    "correlation"
   ]
  },
  {
   "cell_type": "code",
   "execution_count": null,
   "metadata": {},
   "outputs": [],
   "source": [
    "#DISPLAY THE MOST FREQUENT BIRD VISITS FOR EACH HUMIDITY\n",
    "bird_counts = combined_grassland_df.groupby([\"Humidity\", \"Common_Name\"]).size().reset_index(name=\"Count\")\n",
    "most_visited_bird = bird_counts.loc[bird_counts.groupby(\"Humidity\")[\"Count\"].idxmax()]\n",
    "plt.figure(figsize=(15,8))\n",
    "sns.barplot(data=most_visited_bird, x=\"Humidity\", y=\"Count\", hue=\"Common_Name\")\n",
    "plt.title(\"MOST FREQUENT BIRD VISITS FOR EACH HUMIDITY\")\n",
    "plt.xlabel(\"Humidity level\")\n",
    "plt.ylabel(\"Frequent bird visit count\")\n",
    "plt.xticks(rotation=90)\n",
    "plt.show()"
   ]
  },
  {
   "cell_type": "markdown",
   "metadata": {},
   "source": [
    "EDA MULTI-VARIENT ANALYSIS"
   ]
  },
  {
   "cell_type": "code",
   "execution_count": null,
   "metadata": {},
   "outputs": [],
   "source": [
    "#CHECKING THE RELATION BETWEEN ALL THE NUMERIC DATA USING PAIR PLOT\n",
    "numeric_columns = ['Month', 'Visit', 'AcceptedTSN','Temperature','Humidity']\n",
    "filtered_data = combined_grassland_df[numeric_columns]\n",
    "sns.pairplot(filtered_data)\n",
    "sns.set_palette(\"coolwarm\")\n",
    "plt.show()"
   ]
  }
 ],
 "metadata": {
  "language_info": {
   "name": "python"
  }
 },
 "nbformat": 4,
 "nbformat_minor": 2
}
